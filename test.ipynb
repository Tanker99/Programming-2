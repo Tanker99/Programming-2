{
 "cells": [
  {
   "cell_type": "code",
   "execution_count": null,
   "metadata": {
    "vscode": {
     "languageId": "plaintext"
    }
   },
   "outputs": [],
   "source": [
    "print(\"x\")\n",
    "print(\"x\",\"x\",\"x\",sep=\" \")\n",
    "print(\"x\",end=\"\")\n",
    "print(\"\");print(\"\")"
   ]
  },
  {
   "cell_type": "code",
   "execution_count": null,
   "metadata": {},
   "outputs": [],
   "source": [
    "print(\"careful of the \"i\" \")\n",
    "for i in range(4):\n",
    "    print(i,\":X\") \n",
    "print(\"X\")\n",
    "print(\"\");print(\"\")"
   ]
  }
 ],
 "metadata": {
  "language_info": {
   "name": "python"
  }
 },
 "nbformat": 4,
 "nbformat_minor": 2
}
