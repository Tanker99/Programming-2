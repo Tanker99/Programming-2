{
 "cells": [
  {
   "cell_type": "code",
   "execution_count": null,
   "metadata": {},
   "outputs": [],
   "source": [
    "print(\"x\")\n",
    "print(\"x\",\"x\",\"x\",sep=\" \")\n",
    "print(\"x\",end=\"\")\n",
    "print(\"\");print(\"\")"
   ]
  },
  {
   "cell_type": "code",
   "execution_count": 10,
   "metadata": {},
   "outputs": [
    {
     "name": "stdout",
     "output_type": "stream",
     "text": [
      "    *\n",
      "   ***\n",
      "  *****\n",
      " *******\n",
      "*********\n",
      "   ***\n",
      "   ***\n"
     ]
    }
   ],
   "source": [
    "heigh = 5\n",
    "for i in range(heigh):\n",
    "        stars = \"*\" * (2 * i + 1)\n",
    "        spaces = \" \" * (heigh - i - 1)\n",
    "        print(spaces + stars)\n",
    "\n",
    "#stam\n",
    "stamm = 2\n",
    "spaces = \" \" * (heigh - 2 //2 -1)\n",
    "for i in range(stamm):\n",
    "        sticks =\"***\"\n",
    "        print(spaces + sticks)\n",
    "        #printas"
   ]
  }
 ],
 "metadata": {
  "kernelspec": {
   "display_name": "Python 3",
   "language": "python",
   "name": "python3"
  },
  "language_info": {
   "codemirror_mode": {
    "name": "ipython",
    "version": 3
   },
   "file_extension": ".py",
   "mimetype": "text/x-python",
   "name": "python",
   "nbconvert_exporter": "python",
   "pygments_lexer": "ipython3",
   "version": "3.13.0"
  }
 },
 "nbformat": 4,
 "nbformat_minor": 2
}
